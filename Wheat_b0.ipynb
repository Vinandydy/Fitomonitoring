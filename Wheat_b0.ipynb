{
 "cells": [
  {
   "cell_type": "code",
   "id": "initial_id",
   "metadata": {
    "collapsed": true,
    "ExecuteTime": {
     "end_time": "2024-12-30T10:31:29.455573Z",
     "start_time": "2024-12-30T10:31:29.439947Z"
    }
   },
   "source": [
    "import torch\n",
    "device = \"cuda\" if torch.cuda.is_available() else \"cpu\"\n",
    "device"
   ],
   "outputs": [
    {
     "data": {
      "text/plain": [
       "'cuda'"
      ]
     },
     "execution_count": 12,
     "metadata": {},
     "output_type": "execute_result"
    }
   ],
   "execution_count": 12
  },
  {
   "cell_type": "code",
   "source": [
    "import matplotlib.pyplot as plt\n",
    "import torch\n",
    "import torchvision\n",
    "\n",
    "from torch import nn\n",
    "from torchvision import transforms\n",
    "\n"
   ],
   "metadata": {
    "collapsed": false,
    "ExecuteTime": {
     "end_time": "2024-12-30T10:31:31.420823Z",
     "start_time": "2024-12-30T10:31:31.405196Z"
    }
   },
   "id": "3435e90f9fd86e6b",
   "outputs": [],
   "execution_count": 13
  },
  {
   "cell_type": "code",
   "source": [
    "from pathlib import Path\n",
    "\n",
    "data_path = Path(\"Dataset\")\n",
    "\n",
    "train_dir = data_path / \"train\"\n",
    "test_dir = data_path / \"test\"\n",
    "\n",
    "train_dir, test_dir"
   ],
   "metadata": {
    "collapsed": false,
    "ExecuteTime": {
     "end_time": "2024-12-30T10:31:34.263794Z",
     "start_time": "2024-12-30T10:31:34.248168Z"
    }
   },
   "id": "3b8db8658cca9a07",
   "outputs": [
    {
     "data": {
      "text/plain": [
       "(WindowsPath('Dataset/train'), WindowsPath('Dataset/test'))"
      ]
     },
     "execution_count": 14,
     "metadata": {},
     "output_type": "execute_result"
    }
   ],
   "execution_count": 14
  },
  {
   "cell_type": "code",
   "source": [
    "def TransferLearning_effnet(num_classes: int=2,\n",
    "                              seed: int=42):\n",
    "    #Инициализация базовых весов модели efficientNet\n",
    "    weights = torchvision.models.EfficientNet_B0_Weights.DEFAULT\n",
    "    \n",
    "    #Трансформер изображений по подключенной структуре\n",
    "    transforms =  weights.transforms()\n",
    "    \n",
    "    #Стартовая модель\n",
    "    model = torchvision.models.efficientnet_b0(weights=weights)\n",
    "    \n",
    "    #Для того, чтобы слои не были преобразованы, замораживаем их\n",
    "    for param in model.parameters():\n",
    "        param.requires_grad = False\n",
    "        \n",
    "    #Для способности повторно проводить эксперимент используем сид весов 42\n",
    "    torch.manual_seed(seed)\n",
    "    \n",
    "    #Преобразуем кол-во классов в необходимое для нас\n",
    "    model.classifier = nn.Sequential(\n",
    "        nn.Dropout(p=0.2, inplace=True),\n",
    "        nn.Linear(in_features=1280, out_features=num_classes)\n",
    "    )\n",
    "    return model, transforms"
   ],
   "metadata": {
    "collapsed": false,
    "ExecuteTime": {
     "end_time": "2024-12-30T10:32:03.302908Z",
     "start_time": "2024-12-30T10:32:03.273767Z"
    }
   },
   "id": "cff28c715ab73dba",
   "outputs": [],
   "execution_count": 15
  },
  {
   "cell_type": "code",
   "source": [
    "# Создаем модель и трансформеры\n",
    "effnet, effnet_transforms = TransferLearning_effnet(num_classes=2,\n",
    "                                                      seed=42)\n",
    "\n",
    "# Настраиваем dataloader\n",
    "from Modules import Setup\n",
    "\n",
    "train_dataloader_effnet, test_dataloader_effnet, class_names = Setup.create_dataloaders(\n",
    "    train_dir=train_dir,\n",
    "    test_dir=test_dir,\n",
    "    transform=effnet_transforms,\n",
    "    batch_size=32\n",
    ")"
   ],
   "metadata": {
    "collapsed": false,
    "ExecuteTime": {
     "end_time": "2024-12-30T10:32:06.907172Z",
     "start_time": "2024-12-30T10:32:05.921457Z"
    }
   },
   "id": "36e52d2c984c357c",
   "outputs": [
    {
     "name": "stderr",
     "output_type": "stream",
     "text": [
      "Downloading: \"https://download.pytorch.org/models/efficientnet_b0_rwightman-7f5810bc.pth\" to C:\\Users\\Andrew/.cache\\torch\\hub\\checkpoints\\efficientnet_b0_rwightman-7f5810bc.pth\n",
      "100%|██████████| 20.5M/20.5M [00:00<00:00, 41.5MB/s]\n"
     ]
    }
   ],
   "execution_count": 16
  },
  {
   "cell_type": "code",
   "source": [
    "from torchinfo import summary\n",
    "\n",
    "#Наша архитектура\n",
    "summary(effnet,\n",
    "        input_size=(1,3,224,224),\n",
    "        col_names=[\"input_size\", \"output_size\", \"num_params\", \"trainable\"],\n",
    "        col_width=20,\n",
    "        row_settings=[\"var_names\"])"
   ],
   "metadata": {
    "collapsed": false,
    "ExecuteTime": {
     "end_time": "2024-12-30T10:32:32.381155Z",
     "start_time": "2024-12-30T10:32:32.225407Z"
    }
   },
   "id": "72cb5c87877d507b",
   "outputs": [
    {
     "data": {
      "text/plain": [
       "============================================================================================================================================\n",
       "Layer (type (var_name))                                      Input Shape          Output Shape         Param #              Trainable\n",
       "============================================================================================================================================\n",
       "EfficientNet (EfficientNet)                                  [1, 3, 224, 224]     [1, 2]               --                   Partial\n",
       "├─Sequential (features)                                      [1, 3, 224, 224]     [1, 1280, 7, 7]      --                   False\n",
       "│    └─Conv2dNormActivation (0)                              [1, 3, 224, 224]     [1, 32, 112, 112]    --                   False\n",
       "│    │    └─Conv2d (0)                                       [1, 3, 224, 224]     [1, 32, 112, 112]    (864)                False\n",
       "│    │    └─BatchNorm2d (1)                                  [1, 32, 112, 112]    [1, 32, 112, 112]    (64)                 False\n",
       "│    │    └─SiLU (2)                                         [1, 32, 112, 112]    [1, 32, 112, 112]    --                   --\n",
       "│    └─Sequential (1)                                        [1, 32, 112, 112]    [1, 16, 112, 112]    --                   False\n",
       "│    │    └─MBConv (0)                                       [1, 32, 112, 112]    [1, 16, 112, 112]    (1,448)              False\n",
       "│    └─Sequential (2)                                        [1, 16, 112, 112]    [1, 24, 56, 56]      --                   False\n",
       "│    │    └─MBConv (0)                                       [1, 16, 112, 112]    [1, 24, 56, 56]      (6,004)              False\n",
       "│    │    └─MBConv (1)                                       [1, 24, 56, 56]      [1, 24, 56, 56]      (10,710)             False\n",
       "│    └─Sequential (3)                                        [1, 24, 56, 56]      [1, 40, 28, 28]      --                   False\n",
       "│    │    └─MBConv (0)                                       [1, 24, 56, 56]      [1, 40, 28, 28]      (15,350)             False\n",
       "│    │    └─MBConv (1)                                       [1, 40, 28, 28]      [1, 40, 28, 28]      (31,290)             False\n",
       "│    └─Sequential (4)                                        [1, 40, 28, 28]      [1, 80, 14, 14]      --                   False\n",
       "│    │    └─MBConv (0)                                       [1, 40, 28, 28]      [1, 80, 14, 14]      (37,130)             False\n",
       "│    │    └─MBConv (1)                                       [1, 80, 14, 14]      [1, 80, 14, 14]      (102,900)            False\n",
       "│    │    └─MBConv (2)                                       [1, 80, 14, 14]      [1, 80, 14, 14]      (102,900)            False\n",
       "│    └─Sequential (5)                                        [1, 80, 14, 14]      [1, 112, 14, 14]     --                   False\n",
       "│    │    └─MBConv (0)                                       [1, 80, 14, 14]      [1, 112, 14, 14]     (126,004)            False\n",
       "│    │    └─MBConv (1)                                       [1, 112, 14, 14]     [1, 112, 14, 14]     (208,572)            False\n",
       "│    │    └─MBConv (2)                                       [1, 112, 14, 14]     [1, 112, 14, 14]     (208,572)            False\n",
       "│    └─Sequential (6)                                        [1, 112, 14, 14]     [1, 192, 7, 7]       --                   False\n",
       "│    │    └─MBConv (0)                                       [1, 112, 14, 14]     [1, 192, 7, 7]       (262,492)            False\n",
       "│    │    └─MBConv (1)                                       [1, 192, 7, 7]       [1, 192, 7, 7]       (587,952)            False\n",
       "│    │    └─MBConv (2)                                       [1, 192, 7, 7]       [1, 192, 7, 7]       (587,952)            False\n",
       "│    │    └─MBConv (3)                                       [1, 192, 7, 7]       [1, 192, 7, 7]       (587,952)            False\n",
       "│    └─Sequential (7)                                        [1, 192, 7, 7]       [1, 320, 7, 7]       --                   False\n",
       "│    │    └─MBConv (0)                                       [1, 192, 7, 7]       [1, 320, 7, 7]       (717,232)            False\n",
       "│    └─Conv2dNormActivation (8)                              [1, 320, 7, 7]       [1, 1280, 7, 7]      --                   False\n",
       "│    │    └─Conv2d (0)                                       [1, 320, 7, 7]       [1, 1280, 7, 7]      (409,600)            False\n",
       "│    │    └─BatchNorm2d (1)                                  [1, 1280, 7, 7]      [1, 1280, 7, 7]      (2,560)              False\n",
       "│    │    └─SiLU (2)                                         [1, 1280, 7, 7]      [1, 1280, 7, 7]      --                   --\n",
       "├─AdaptiveAvgPool2d (avgpool)                                [1, 1280, 7, 7]      [1, 1280, 1, 1]      --                   --\n",
       "├─Sequential (classifier)                                    [1, 1280]            [1, 2]               --                   True\n",
       "│    └─Dropout (0)                                           [1, 1280]            [1, 1280]            --                   --\n",
       "│    └─Linear (1)                                            [1, 1280]            [1, 2]               2,562                True\n",
       "============================================================================================================================================\n",
       "Total params: 4,010,110\n",
       "Trainable params: 2,562\n",
       "Non-trainable params: 4,007,548\n",
       "Total mult-adds (M): 384.59\n",
       "============================================================================================================================================\n",
       "Input size (MB): 0.60\n",
       "Forward/backward pass size (MB): 107.88\n",
       "Params size (MB): 16.04\n",
       "Estimated Total Size (MB): 124.52\n",
       "============================================================================================================================================"
      ]
     },
     "execution_count": 17,
     "metadata": {},
     "output_type": "execute_result"
    }
   ],
   "execution_count": 17
  },
  {
   "cell_type": "markdown",
   "source": [
    "Момент обучения модели"
   ],
   "metadata": {
    "collapsed": false
   },
   "id": "cff40a5ecd78ed0e"
  },
  {
   "cell_type": "code",
   "source": [
    "from Modules import TrainModule\n",
    "from Modules.Auxiliary_Functions import set_seeds, Graph_loss\n",
    "\n",
    "set_seeds()\n",
    "\n",
    "effnet_trained = TrainModule.train(model=effnet,\n",
    "                                     train_dataloader=train_dataloader_effnet,\n",
    "                                     test_dataloader=test_dataloader_effnet,\n",
    "                                     epoch=10,\n",
    "                                     optimizer=torch.optim.Adam(params=effnet.parameters(), lr=1e-3),\n",
    "                                     loss_fn=torch.nn.CrossEntropyLoss(),\n",
    "                                     device=device)"
   ],
   "metadata": {
    "collapsed": false,
    "ExecuteTime": {
     "end_time": "2024-12-30T10:42:19.328609Z",
     "start_time": "2024-12-30T10:32:36.015650Z"
    }
   },
   "id": "2409defc41055273",
   "outputs": [
    {
     "name": "stderr",
     "output_type": "stream",
     "text": [
      " 10%|█         | 1/10 [00:59<08:55, 59.46s/it]"
     ]
    },
    {
     "name": "stdout",
     "output_type": "stream",
     "text": [
      "Epoch: 1 | Train Loss: 0.326 | Train Acc: 0.880 | Test Loss: 0.126 |Test Acc: 0.974\n"
     ]
    },
    {
     "name": "stderr",
     "output_type": "stream",
     "text": [
      " 20%|██        | 2/10 [01:57<07:50, 58.79s/it]"
     ]
    },
    {
     "name": "stdout",
     "output_type": "stream",
     "text": [
      "Epoch: 2 | Train Loss: 0.175 | Train Acc: 0.943 | Test Loss: 0.090 |Test Acc: 0.976\n"
     ]
    },
    {
     "name": "stderr",
     "output_type": "stream",
     "text": [
      " 30%|███       | 3/10 [02:55<06:49, 58.44s/it]"
     ]
    },
    {
     "name": "stdout",
     "output_type": "stream",
     "text": [
      "Epoch: 3 | Train Loss: 0.154 | Train Acc: 0.946 | Test Loss: 0.068 |Test Acc: 0.982\n"
     ]
    },
    {
     "name": "stderr",
     "output_type": "stream",
     "text": [
      " 40%|████      | 4/10 [03:53<05:49, 58.30s/it]"
     ]
    },
    {
     "name": "stdout",
     "output_type": "stream",
     "text": [
      "Epoch: 4 | Train Loss: 0.131 | Train Acc: 0.959 | Test Loss: 0.067 |Test Acc: 0.986\n"
     ]
    },
    {
     "name": "stderr",
     "output_type": "stream",
     "text": [
      " 50%|█████     | 5/10 [04:52<04:52, 58.40s/it]"
     ]
    },
    {
     "name": "stdout",
     "output_type": "stream",
     "text": [
      "Epoch: 5 | Train Loss: 0.113 | Train Acc: 0.962 | Test Loss: 0.062 |Test Acc: 0.980\n"
     ]
    },
    {
     "name": "stderr",
     "output_type": "stream",
     "text": [
      " 60%|██████    | 6/10 [05:50<03:53, 58.40s/it]"
     ]
    },
    {
     "name": "stdout",
     "output_type": "stream",
     "text": [
      "Epoch: 6 | Train Loss: 0.120 | Train Acc: 0.961 | Test Loss: 0.053 |Test Acc: 0.988\n"
     ]
    },
    {
     "name": "stderr",
     "output_type": "stream",
     "text": [
      " 70%|███████   | 7/10 [06:48<02:54, 58.29s/it]"
     ]
    },
    {
     "name": "stdout",
     "output_type": "stream",
     "text": [
      "Epoch: 7 | Train Loss: 0.107 | Train Acc: 0.961 | Test Loss: 0.046 |Test Acc: 0.986\n"
     ]
    },
    {
     "name": "stderr",
     "output_type": "stream",
     "text": [
      " 80%|████████  | 8/10 [07:47<01:56, 58.25s/it]"
     ]
    },
    {
     "name": "stdout",
     "output_type": "stream",
     "text": [
      "Epoch: 8 | Train Loss: 0.095 | Train Acc: 0.968 | Test Loss: 0.050 |Test Acc: 0.986\n"
     ]
    },
    {
     "name": "stderr",
     "output_type": "stream",
     "text": [
      " 90%|█████████ | 9/10 [08:44<00:58, 58.14s/it]"
     ]
    },
    {
     "name": "stdout",
     "output_type": "stream",
     "text": [
      "Epoch: 9 | Train Loss: 0.092 | Train Acc: 0.968 | Test Loss: 0.048 |Test Acc: 0.984\n"
     ]
    },
    {
     "name": "stderr",
     "output_type": "stream",
     "text": [
      "100%|██████████| 10/10 [09:43<00:00, 58.33s/it]"
     ]
    },
    {
     "name": "stdout",
     "output_type": "stream",
     "text": [
      "Epoch: 10 | Train Loss: 0.096 | Train Acc: 0.962 | Test Loss: 0.043 |Test Acc: 0.988\n"
     ]
    },
    {
     "name": "stderr",
     "output_type": "stream",
     "text": [
      "\n"
     ]
    }
   ],
   "execution_count": 18
  },
  {
   "cell_type": "code",
   "source": [
    "from PIL import Image\n",
    "from timeit import default_timer as timer\n",
    "from tqdm.auto import tqdm\n",
    "from typing import List, Dict\n",
    "\n",
    "# Функция инференса\n",
    "def pred_and_store(paths: List[Path],\n",
    "                   model: torch.nn.Module,\n",
    "                   transform: torchvision.transforms,\n",
    "                   class_names: List[str]) -> List[str]:\n",
    "    device = \"cpu\"\n",
    "    predictions = []\n",
    "\n",
    "    # Обрабатываем каждое изображение в списке путей\n",
    "    for path in paths:\n",
    "        # Открываем каждый файл отдельно\n",
    "        img = Image.open(path).convert(\"RGB\")\n",
    "\n",
    "        # Трансформируем изображение и отправляем на CPU\n",
    "        transformed_image = transform(img).unsqueeze(0).to(device)\n",
    "\n",
    "        model.to(device)\n",
    "        model.eval()\n",
    "\n",
    "        # Производим инференс\n",
    "        with torch.inference_mode():\n",
    "            pred_logit = model(transformed_image)\n",
    "            pred_prob = torch.softmax(pred_logit, dim=1)\n",
    "            pred_label = torch.argmax(pred_prob, dim=1)\n",
    "            pred_class = class_names[pred_label.cpu()]\n",
    "\n",
    "        # Добавляем результат в список\n",
    "        predictions.append(pred_class)\n",
    "\n",
    "    return predictions"
   ],
   "metadata": {
    "collapsed": false,
    "ExecuteTime": {
     "end_time": "2024-12-30T10:43:26.063467Z",
     "start_time": "2024-12-30T10:43:26.047840Z"
    }
   },
   "id": "6b29743a6c93888c",
   "outputs": [],
   "execution_count": 19
  },
  {
   "cell_type": "code",
   "source": [
    "# Генерируем график того, как обучалась модель\n",
    "Graph_loss(effnet_trained)\n",
    "\n",
    "from Modules import Savekt\n",
    "\n",
    "#Сохраняем полученную модель\n",
    "Savekt.save_model(model=effnet,\n",
    "                  target_dir=\"models\",\n",
    "                  model_name=\"kt4.pth\")\n",
    "\n",
    "# Считаем количество параметров в модели\n",
    "effnet_total_params = sum(\n",
    "    torch.numel(param) for param in effnet.parameters())\n",
    "effnet_total_params\n",
    "\n",
    "# Рассчитываем вес полученной модели в мб\n",
    "pretrained_effnet_model_size = Path(\n",
    "    \"models/kt4.pth\").stat().st_size // (\n",
    "                                         1024 * 1024)  # division converts bytes to megabytes (roughly)\n",
    "print(\n",
    "    f\"Pretrained EffNet feature extractor model size: {pretrained_effnet_model_size} MB\")\n",
    "\n",
    "# Формируем словарь с результатами модели (для сравнения с другими моделями и результатами тренировок)\n",
    "effnet_stats = {\"test_loss\": effnet_trained[\"test_loss\"][-1],\n",
    "                  \"test_acc\": effnet_trained[\"test_acc\"][-1],\n",
    "                  \"number_of_parameters\": effnet_total_params,\n",
    "                  \"model_size (MB)\": pretrained_effnet_model_size}\n",
    "effnet_stats"
   ],
   "metadata": {
    "collapsed": false,
    "ExecuteTime": {
     "end_time": "2024-12-30T10:43:30.023620Z",
     "start_time": "2024-12-30T10:43:29.770390Z"
    }
   },
   "id": "f6ca700b892ea0ff",
   "outputs": [
    {
     "name": "stdout",
     "output_type": "stream",
     "text": [
      "[INFO] Saving model to: models\\kt4.pth\n",
      "Pretrained EffNet feature extractor model size: 15 MB\n"
     ]
    },
    {
     "data": {
      "text/plain": [
       "{'test_loss': 0.042891619610600173,\n",
       " 'test_acc': 0.98828125,\n",
       " 'number_of_parameters': 4010110,\n",
       " 'model_size (MB)': 15}"
      ]
     },
     "execution_count": 20,
     "metadata": {},
     "output_type": "execute_result"
    },
    {
     "data": {
      "text/plain": [
       "<Figure size 1500x700 with 2 Axes>"
      ],
      "image/png": "[encoded data removed]"
     },
     "metadata": {},
     "output_type": "display_data"
    }
   ],
   "execution_count": 20
  }
 ],
 "metadata": {
  "kernelspec": {
   "display_name": "Python 3",
   "language": "python",
   "name": "python3"
  },
  "language_info": {
   "codemirror_mode": {
    "name": "ipython",
    "version": 2
   },
   "file_extension": ".py",
   "mimetype": "text/x-python",
   "name": "python",
   "nbconvert_exporter": "python",
   "pygments_lexer": "ipython2",
   "version": "2.7.6"
  }
 },
 "nbformat": 4,
 "nbformat_minor": 5
}
